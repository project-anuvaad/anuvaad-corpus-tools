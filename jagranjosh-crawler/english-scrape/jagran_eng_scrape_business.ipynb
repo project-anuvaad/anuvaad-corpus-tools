{
 "cells": [
  {
   "cell_type": "markdown",
   "metadata": {
    "id": "nYLMK0VPYpDq"
   },
   "source": [
    "# Importing Libraries"
   ]
  },
  {
   "cell_type": "code",
   "execution_count": 1,
   "metadata": {
    "id": "i-BLX3EWQtYx"
   },
   "outputs": [],
   "source": [
    "from bs4 import BeautifulSoup\n",
    "import requests\n",
    "import csv\n",
    "from tqdm import tqdm\n",
    "import pandas as pd\n",
    "from datetime import datetime\n",
    "import re"
   ]
  },
  {
   "cell_type": "code",
   "execution_count": 2,
   "metadata": {
    "id": "8dHVTWbhQtY0"
   },
   "outputs": [],
   "source": [
    "links = []\n",
    "titles = []"
   ]
  },
  {
   "cell_type": "code",
   "execution_count": 3,
   "metadata": {
    "id": "5leMYIMxQtY2"
   },
   "outputs": [],
   "source": [
    "url = \"https://english.jagran.com\""
   ]
  },
  {
   "cell_type": "markdown",
   "metadata": {
    "id": "zSkMhMoGYybZ"
   },
   "source": [
    "# Scraping Link and Title"
   ]
  },
  {
   "cell_type": "code",
   "execution_count": 4,
   "metadata": {
    "id": "ybQLR7rJQtY5"
   },
   "outputs": [],
   "source": [
    "def scrape(Link):\n",
    "    req = requests.get(Link)\n",
    "    #print(Link)\n",
    "    soup = BeautifulSoup(req.text, \"html.parser\")\n",
    "    \n",
    "    file = soup.find_all('ul', class_ = 'topicList')\n",
    "    \n",
    "    for content in file:\n",
    "        Links_new = content.find_all('a', href =True)\n",
    "        \n",
    "    for link in Links_new:\n",
    "        dum = url + link['href']\n",
    "        #print(dum)\n",
    "        links.append(dum)\n",
    "        titles.append(link.find('div', class_ = 'h3').text)\n"
   ]
  },
  {
   "cell_type": "code",
   "execution_count": null,
   "metadata": {},
   "outputs": [],
   "source": []
  },
  {
   "cell_type": "code",
   "execution_count": 5,
   "metadata": {
    "id": "ILSlVJncqW3_"
   },
   "outputs": [
    {
     "name": "stderr",
     "output_type": "stream",
     "text": [
      "100%|██████████| 174/174 [00:52<00:00,  3.29it/s]\n"
     ]
    }
   ],
   "source": [
    "#page_url == url+'/entertainment-page'+str(p)'/entertainment/bollywood'\n",
    "for p in tqdm(range (1,175)):\n",
    "    if p == 1:\n",
    "       \n",
    "        page_url = url + '/business'\n",
    "        scrape(page_url )\n",
    "    else:                     \n",
    "        page_url = url+'/business-page'+str(p)\n",
    "        #print(page_url)\n",
    "        scrape(page_url)\n",
    "        #print(p)\n",
    "        "
   ]
  },
  {
   "cell_type": "code",
   "execution_count": null,
   "metadata": {},
   "outputs": [],
   "source": []
  },
  {
   "cell_type": "code",
   "execution_count": 6,
   "metadata": {
    "colab": {
     "base_uri": "https://localhost:8080/"
    },
    "id": "mUhBwKmkRcqY",
    "outputId": "b7e7a653-cb42-4a13-a461-b82c7fe6d577"
   },
   "outputs": [
    {
     "name": "stdout",
     "output_type": "stream",
     "text": [
      "1686 1686\n"
     ]
    }
   ],
   "source": [
    "print(len(links),len(titles))"
   ]
  },
  {
   "cell_type": "markdown",
   "metadata": {
    "id": "sRnxe5zKZGgm"
   },
   "source": [
    "# Getting Page Number"
   ]
  },
  {
   "cell_type": "code",
   "execution_count": null,
   "metadata": {
    "colab": {
     "base_uri": "https://localhost:8080/"
    },
    "id": "c0rDD1u8QtY8",
    "outputId": "b21cd3d0-d7cb-42d6-cd5a-8231f7457601"
   },
   "outputs": [
    {
     "name": "stderr",
     "output_type": "stream",
     "text": [
      "100%|██████████| 8853/8853 [00:00<00:00, 235537.01it/s]"
     ]
    },
    {
     "name": "stdout",
     "output_type": "stream",
     "text": [
      "8853\n"
     ]
    },
    {
     "name": "stderr",
     "output_type": "stream",
     "text": [
      "\n"
     ]
    }
   ],
   "source": [
    "import re\n",
    "Page = []\n",
    "for i in tqdm(links):\n",
    "    regex = r\"\\d+\"\n",
    "    x = re.search(regex, i)\n",
    "    y = str(x[0])\n",
    "    Page.append(y)\n",
    "print(len(Page))"
   ]
  },
  {
   "cell_type": "markdown",
   "metadata": {
    "id": "xvJUmGeJZRCw"
   },
   "source": [
    "# Putting Scraped Data into DataFrame"
   ]
  },
  {
   "cell_type": "code",
   "execution_count": 7,
   "metadata": {
    "id": "8sA-fq3XQtY_"
   },
   "outputs": [],
   "source": [
    "df=pd.DataFrame(links,columns=[\"link\"])\n",
    "\n",
    "df[\"title\"]=titles\n"
   ]
  },
  {
   "cell_type": "code",
   "execution_count": 8,
   "metadata": {
    "colab": {
     "base_uri": "https://localhost:8080/"
    },
    "id": "cjVM5zhAJH8g",
    "outputId": "5b08cb6c-3b19-4065-b732-b510f7e7fbbd"
   },
   "outputs": [
    {
     "name": "stdout",
     "output_type": "stream",
     "text": [
      "1686\n"
     ]
    }
   ],
   "source": [
    "print(len(links))"
   ]
  },
  {
   "cell_type": "code",
   "execution_count": 9,
   "metadata": {},
   "outputs": [],
   "source": [
    "df.to_csv('f110_english_business.csv', encoding = 'utf-16', mode = 'w', index = False)"
   ]
  },
  {
   "cell_type": "markdown",
   "metadata": {
    "id": "NBy1dF80ax6x"
   },
   "source": [
    "# Scraping Dates"
   ]
  },
  {
   "cell_type": "code",
   "execution_count": 10,
   "metadata": {
    "colab": {
     "base_uri": "https://localhost:8080/"
    },
    "id": "lICu6JtJE9Uf",
    "outputId": "f02e54cf-395b-4736-e684-4bf4d2fa993e"
   },
   "outputs": [
    {
     "name": "stderr",
     "output_type": "stream",
     "text": [
      "100%|██████████| 1686/1686 [07:32<00:00,  3.72it/s]\n"
     ]
    }
   ],
   "source": [
    "dates = list()\n",
    "for i in tqdm(range(0,len(links))):\n",
    "    req = requests.get(links[i])\n",
    "    soup = BeautifulSoup(req.text, \"html.parser\")\n",
    "    data = soup.find('span',class_=\"fl\").text\n",
    "    dates.append(data)\n",
    "   # return data"
   ]
  },
  {
   "cell_type": "code",
   "execution_count": 11,
   "metadata": {},
   "outputs": [
    {
     "ename": "IndexError",
     "evalue": "list index out of range",
     "output_type": "error",
     "traceback": [
      "\u001b[0;31m---------------------------------------------------------------------------\u001b[0m",
      "\u001b[0;31mIndexError\u001b[0m                                Traceback (most recent call last)",
      "\u001b[0;32m<ipython-input-11-14b58155175a>\u001b[0m in \u001b[0;36m<module>\u001b[0;34m\u001b[0m\n\u001b[0;32m----> 1\u001b[0;31m \u001b[0mprint\u001b[0m\u001b[0;34m(\u001b[0m\u001b[0mdates\u001b[0m\u001b[0;34m[\u001b[0m\u001b[0;36m3682\u001b[0m\u001b[0;34m]\u001b[0m\u001b[0;34m)\u001b[0m\u001b[0;34m\u001b[0m\u001b[0;34m\u001b[0m\u001b[0m\n\u001b[0m",
      "\u001b[0;31mIndexError\u001b[0m: list index out of range"
     ]
    }
   ],
   "source": [
    "print(dates[3682])"
   ]
  },
  {
   "cell_type": "code",
   "execution_count": 21,
   "metadata": {},
   "outputs": [
    {
     "ename": "IndexError",
     "evalue": "string index out of range",
     "output_type": "error",
     "traceback": [
      "\u001b[0;31m---------------------------------------------------------------------------\u001b[0m",
      "\u001b[0;31mIndexError\u001b[0m                                Traceback (most recent call last)",
      "\u001b[0;32m<ipython-input-21-8f77b0adce89>\u001b[0m in \u001b[0;36m<module>\u001b[0;34m\u001b[0m\n\u001b[0;32m----> 1\u001b[0;31m \u001b[0mlinks\u001b[0m\u001b[0;34m[\u001b[0m\u001b[0;36m195\u001b[0m\u001b[0;34m]\u001b[0m\u001b[0;34m\u001b[0m\u001b[0;34m\u001b[0m\u001b[0m\n\u001b[0m",
      "\u001b[0;31mIndexError\u001b[0m: string index out of range"
     ]
    }
   ],
   "source": [
    "links[195]"
   ]
  },
  {
   "cell_type": "code",
   "execution_count": 11,
   "metadata": {
    "colab": {
     "base_uri": "https://localhost:8080/"
    },
    "id": "11afsnd3KDkm",
    "outputId": "b8718862-92ff-44b7-8795-4b2ff8a33629"
   },
   "outputs": [
    {
     "name": "stdout",
     "output_type": "stream",
     "text": [
      "1686\n"
     ]
    }
   ],
   "source": [
    "print(len(dates))"
   ]
  },
  {
   "cell_type": "code",
   "execution_count": 12,
   "metadata": {
    "colab": {
     "base_uri": "https://localhost:8080/"
    },
    "id": "06cC7otUKPbZ",
    "outputId": "6b0e2fda-5631-4deb-c812-9f919ebc7ff7"
   },
   "outputs": [
    {
     "data": {
      "text/plain": [
       "'for j in range(0,10):\\n  temp = dates[j].split(\\' \\')\\n  #print(temp)\\n  if (temp[0] == \\'Publish\\'):\\n    print(temp[4])\\n    print(temp[5])\\n    holder = temp[5]+\"-\"+ temp[4]+\"-\"+temp[3]+\" \" + temp[6]\\n    print(holder)\\n  \\n  else:\\n    print(temp[3])\\n    print(temp[4])\\n    holder = temp[4]+\"-\"+ temp[3]+\"-\"+temp[2]+\" \" + temp[5]\\n    print(holder)'"
      ]
     },
     "execution_count": 12,
     "metadata": {},
     "output_type": "execute_result"
    }
   ],
   "source": [
    "\"\"\"for j in range(0,10):\n",
    "  temp = dates[j].split(' ')\n",
    "  #print(temp)\n",
    "  if (temp[0] == 'Publish'):\n",
    "    print(temp[4])\n",
    "    print(temp[5])\n",
    "    holder = temp[5]+\"-\"+ temp[4]+\"-\"+temp[3]+\" \" + temp[6]\n",
    "    print(holder)\n",
    "  \n",
    "  else:\n",
    "    print(temp[3])\n",
    "    print(temp[4])\n",
    "    holder = temp[4]+\"-\"+ temp[3]+\"-\"+temp[2]+\" \" + temp[5]\n",
    "    print(holder)\"\"\""
   ]
  },
  {
   "cell_type": "markdown",
   "metadata": {
    "id": "2cKJdN4RdpQa"
   },
   "source": [
    "# Getting Date Month & Year"
   ]
  },
  {
   "cell_type": "code",
   "execution_count": 12,
   "metadata": {
    "colab": {
     "base_uri": "https://localhost:8080/"
    },
    "id": "MxDppNIrtzq_",
    "outputId": "ccf15a65-c448-46cc-e2a7-5472213605a1"
   },
   "outputs": [
    {
     "name": "stderr",
     "output_type": "stream",
     "text": [
      "100%|██████████| 1686/1686 [00:00<00:00, 870564.64it/s]\n"
     ]
    }
   ],
   "source": [
    "year = []\n",
    "month = []\n",
    "date = [] #yyyy-mm-dd nd time\n",
    "for j in tqdm(dates):\n",
    "    temp = j.split(' ')\n",
    "    #print(temp)\n",
    "    if (temp[0] == 'Publish'):\n",
    "        month.append(temp[4])\n",
    "        year.append(temp[5])\n",
    "        holder = temp[5]+\"-\"+ temp[4]+\"-\"+temp[3]+\" \" + temp[6]\n",
    "        date.append(holder)\n",
    "\n",
    "  \n",
    "    else:\n",
    "        month.append(temp[3])\n",
    "        year.append(temp[4])\n",
    "        holder = temp[4]+\"-\"+ temp[3]+\"-\"+temp[2]+\" \" + temp[5]\n",
    "        date.append(holder)"
   ]
  },
  {
   "cell_type": "code",
   "execution_count": 13,
   "metadata": {
    "id": "e4WdqNGaObZK"
   },
   "outputs": [],
   "source": [
    "df[\"Year\"] = year\n",
    "df[\"Month\"] = month\n",
    "df[\"date\"] = date"
   ]
  },
  {
   "cell_type": "code",
   "execution_count": 14,
   "metadata": {
    "id": "HDjeDDABubak"
   },
   "outputs": [],
   "source": [
    "df.to_csv('f110_english_business_date.csv', encoding = 'utf-16', mode = 'a', index = False)"
   ]
  },
  {
   "cell_type": "markdown",
   "metadata": {
    "id": "TeNuEIHkeV66"
   },
   "source": [
    "#Saving Scraped Data"
   ]
  },
  {
   "cell_type": "code",
   "execution_count": 19,
   "metadata": {
    "colab": {
     "base_uri": "https://localhost:8080/",
     "height": 402
    },
    "id": "-O8eWfbqsHjt",
    "outputId": "fe0e354a-2177-42ad-d0b5-3517ae21ff8d"
   },
   "outputs": [],
   "source": [
    "#s = pd.read_csv('f110_english_cricket.csv')\n"
   ]
  },
  {
   "cell_type": "markdown",
   "metadata": {
    "id": "d40CD-gjed3y"
   },
   "source": [
    "# Accessing File for Content Scraping"
   ]
  },
  {
   "cell_type": "code",
   "execution_count": null,
   "metadata": {
    "colab": {
     "base_uri": "https://localhost:8080/"
    },
    "id": "PR2xgpMwdVvd",
    "outputId": "46304ade-a419-436e-e039-2c3d72411c8b"
   },
   "outputs": [
    {
     "name": "stdout",
     "output_type": "stream",
     "text": [
      "Mounted at /content/drive/\n"
     ]
    }
   ],
   "source": [
    "from google.colab import drive\n",
    "drive.mount('/content/drive/')"
   ]
  },
  {
   "cell_type": "code",
   "execution_count": 15,
   "metadata": {
    "colab": {
     "base_uri": "https://localhost:8080/",
     "height": 590
    },
    "id": "Wi_ROm6nek7X",
    "outputId": "d88e35c7-a703-4717-fca3-f6b2cc685936"
   },
   "outputs": [
    {
     "data": {
      "text/html": [
       "<div>\n",
       "<style scoped>\n",
       "    .dataframe tbody tr th:only-of-type {\n",
       "        vertical-align: middle;\n",
       "    }\n",
       "\n",
       "    .dataframe tbody tr th {\n",
       "        vertical-align: top;\n",
       "    }\n",
       "\n",
       "    .dataframe thead th {\n",
       "        text-align: right;\n",
       "    }\n",
       "</style>\n",
       "<table border=\"1\" class=\"dataframe\">\n",
       "  <thead>\n",
       "    <tr style=\"text-align: right;\">\n",
       "      <th></th>\n",
       "      <th>link</th>\n",
       "      <th>title</th>\n",
       "      <th>Year</th>\n",
       "      <th>Month</th>\n",
       "      <th>date</th>\n",
       "    </tr>\n",
       "  </thead>\n",
       "  <tbody>\n",
       "    <tr>\n",
       "      <th>0</th>\n",
       "      <td>https://english.jagran.com/business/bank-holid...</td>\n",
       "      <td>Bank Holidays May 2021: Govt and private banks...</td>\n",
       "      <td>2021</td>\n",
       "      <td>Apr</td>\n",
       "      <td>2021-Apr-27 04:57</td>\n",
       "    </tr>\n",
       "    <tr>\n",
       "      <th>1</th>\n",
       "      <td>https://english.jagran.com/business/jagdish-kh...</td>\n",
       "      <td>Jagdish Khattar, former Maruti Suzuki managing...</td>\n",
       "      <td>2021</td>\n",
       "      <td>Apr</td>\n",
       "      <td>2021-Apr-26 03:02</td>\n",
       "    </tr>\n",
       "    <tr>\n",
       "      <th>2</th>\n",
       "      <td>https://english.jagran.com/business/amid-short...</td>\n",
       "      <td>Amid shortage of oxygen, Google CEO Sundar Pic...</td>\n",
       "      <td>2021</td>\n",
       "      <td>Apr</td>\n",
       "      <td>2021-Apr-26 11:30</td>\n",
       "    </tr>\n",
       "    <tr>\n",
       "      <th>3</th>\n",
       "      <td>https://english.jagran.com/business/irdai-clar...</td>\n",
       "      <td>IRDAI clarifies on cashless claims in COVID-19...</td>\n",
       "      <td>2021</td>\n",
       "      <td>Apr</td>\n",
       "      <td>2021-Apr-22 11:14</td>\n",
       "    </tr>\n",
       "    <tr>\n",
       "      <th>4</th>\n",
       "      <td>https://english.jagran.com/business/stock-mark...</td>\n",
       "      <td>Sensex drops by 1,300, Nifty slips to 14,200 a...</td>\n",
       "      <td>2021</td>\n",
       "      <td>Apr</td>\n",
       "      <td>2021-Apr-19 10:13</td>\n",
       "    </tr>\n",
       "    <tr>\n",
       "      <th>...</th>\n",
       "      <td>...</td>\n",
       "      <td>...</td>\n",
       "      <td>...</td>\n",
       "      <td>...</td>\n",
       "      <td>...</td>\n",
       "    </tr>\n",
       "    <tr>\n",
       "      <th>1681</th>\n",
       "      <td>https://english.jagran.com/business/india-to-h...</td>\n",
       "      <td>India to hold next round of negotiations for t...</td>\n",
       "      <td>2019</td>\n",
       "      <td>May</td>\n",
       "      <td>2019-May-01 04:44</td>\n",
       "    </tr>\n",
       "    <tr>\n",
       "      <th>1682</th>\n",
       "      <td>https://english.jagran.com/business/trump-agai...</td>\n",
       "      <td>Trump again goes after India on trade, says it...</td>\n",
       "      <td>2019</td>\n",
       "      <td>Apr</td>\n",
       "      <td>2019-Apr-29 06:17</td>\n",
       "    </tr>\n",
       "    <tr>\n",
       "      <th>1683</th>\n",
       "      <td>https://english.jagran.com/business/pharmaceut...</td>\n",
       "      <td>Pharmaceutical exports rise 11 pc to $19.2 bn ...</td>\n",
       "      <td>2019</td>\n",
       "      <td>Apr</td>\n",
       "      <td>2019-Apr-23 03:59</td>\n",
       "    </tr>\n",
       "    <tr>\n",
       "      <th>1684</th>\n",
       "      <td>https://english.jagran.com/business/spicejet-e...</td>\n",
       "      <td>SpiceJet, Emirates sign MoU for codeshare part...</td>\n",
       "      <td>2019</td>\n",
       "      <td>Apr</td>\n",
       "      <td>2019-Apr-22 01:06</td>\n",
       "    </tr>\n",
       "    <tr>\n",
       "      <th>1685</th>\n",
       "      <td>https://english.jagran.com/business/airlines-b...</td>\n",
       "      <td>Airlines body IATA suspends the grounded Jet A...</td>\n",
       "      <td>2019</td>\n",
       "      <td>Apr</td>\n",
       "      <td>2019-Apr-19 03:34</td>\n",
       "    </tr>\n",
       "  </tbody>\n",
       "</table>\n",
       "<p>1686 rows × 5 columns</p>\n",
       "</div>"
      ],
      "text/plain": [
       "                                                   link  \\\n",
       "0     https://english.jagran.com/business/bank-holid...   \n",
       "1     https://english.jagran.com/business/jagdish-kh...   \n",
       "2     https://english.jagran.com/business/amid-short...   \n",
       "3     https://english.jagran.com/business/irdai-clar...   \n",
       "4     https://english.jagran.com/business/stock-mark...   \n",
       "...                                                 ...   \n",
       "1681  https://english.jagran.com/business/india-to-h...   \n",
       "1682  https://english.jagran.com/business/trump-agai...   \n",
       "1683  https://english.jagran.com/business/pharmaceut...   \n",
       "1684  https://english.jagran.com/business/spicejet-e...   \n",
       "1685  https://english.jagran.com/business/airlines-b...   \n",
       "\n",
       "                                                  title  Year Month  \\\n",
       "0     Bank Holidays May 2021: Govt and private banks...  2021   Apr   \n",
       "1     Jagdish Khattar, former Maruti Suzuki managing...  2021   Apr   \n",
       "2     Amid shortage of oxygen, Google CEO Sundar Pic...  2021   Apr   \n",
       "3     IRDAI clarifies on cashless claims in COVID-19...  2021   Apr   \n",
       "4     Sensex drops by 1,300, Nifty slips to 14,200 a...  2021   Apr   \n",
       "...                                                 ...   ...   ...   \n",
       "1681  India to hold next round of negotiations for t...  2019   May   \n",
       "1682  Trump again goes after India on trade, says it...  2019   Apr   \n",
       "1683  Pharmaceutical exports rise 11 pc to $19.2 bn ...  2019   Apr   \n",
       "1684  SpiceJet, Emirates sign MoU for codeshare part...  2019   Apr   \n",
       "1685  Airlines body IATA suspends the grounded Jet A...  2019   Apr   \n",
       "\n",
       "                   date  \n",
       "0     2021-Apr-27 04:57  \n",
       "1     2021-Apr-26 03:02  \n",
       "2     2021-Apr-26 11:30  \n",
       "3     2021-Apr-22 11:14  \n",
       "4     2021-Apr-19 10:13  \n",
       "...                 ...  \n",
       "1681  2019-May-01 04:44  \n",
       "1682  2019-Apr-29 06:17  \n",
       "1683  2019-Apr-23 03:59  \n",
       "1684  2019-Apr-22 01:06  \n",
       "1685  2019-Apr-19 03:34  \n",
       "\n",
       "[1686 rows x 5 columns]"
      ]
     },
     "execution_count": 15,
     "metadata": {},
     "output_type": "execute_result"
    }
   ],
   "source": [
    "data = pd.read_csv('/home/test/Jagran-Josh/business/english/f110_english_business_date.csv', encoding = 'utf-16')\n",
    "data"
   ]
  },
  {
   "cell_type": "code",
   "execution_count": 16,
   "metadata": {
    "id": "XUJ76Tn1lKDv"
   },
   "outputs": [],
   "source": [
    "all_urls = []\n",
    "for i in range(0,len(data[\"link\"])):\n",
    "    all_urls.append(data[\"link\"][i])"
   ]
  },
  {
   "cell_type": "code",
   "execution_count": 17,
   "metadata": {
    "colab": {
     "base_uri": "https://localhost:8080/"
    },
    "id": "YTriclSq9s7I",
    "outputId": "0282f8d9-877b-46c5-f86d-37e09e35afd1"
   },
   "outputs": [
    {
     "name": "stdout",
     "output_type": "stream",
     "text": [
      "1686\n"
     ]
    }
   ],
   "source": [
    "print(len(all_urls))"
   ]
  },
  {
   "cell_type": "markdown",
   "metadata": {
    "id": "0E68tD3gq9Ay"
   },
   "source": [
    "\n",
    "# Scraping Content with MultiProcess"
   ]
  },
  {
   "cell_type": "markdown",
   "metadata": {
    "id": "mhIKI4EgpgsN"
   },
   "source": [
    " We extract data here and we append \"~\" to the end of each sentence, So that we can easily spilt the data.\n"
   ]
  },
  {
   "cell_type": "code",
   "execution_count": 18,
   "metadata": {
    "id": "yGPSv-PxlM_i"
   },
   "outputs": [],
   "source": [
    "from multiprocessing import Pool\n",
    "\n",
    "def scrapey(url):\n",
    "    try:\n",
    "        markup_string = requests.get(url)\n",
    "        content = []          \n",
    "        soup = BeautifulSoup(markup_string.text, \"html.parser\")\n",
    "        title = soup.find('title').text\n",
    "        title = title+\"~\"\n",
    "        summary = soup.find_all('meta')[2]['content']\n",
    "        summary = summary+\"~\"\n",
    "        content_box = soup.find('div',{'id':'article-des'})\n",
    "        p = content_box.find_all('p')[:-1:]\n",
    "        for i in p:\n",
    "            temp = i.text+\"~\"\n",
    "            if(len(temp)>2):\n",
    "                content.append(temp)\n",
    "            else:\n",
    "                continue\n",
    "        myvar = [title,summary,content]\n",
    "        #print(content)\n",
    "\n",
    "    except Exception as ex:\n",
    "        myvar.append(\"Missing\")\n",
    "        print(str(ex))\n",
    "    finally:\n",
    "        if len(myvar) > 0:\n",
    "            return myvar\n",
    "        else:\n",
    "            return None"
   ]
  },
  {
   "cell_type": "code",
   "execution_count": 19,
   "metadata": {
    "colab": {
     "base_uri": "https://localhost:8080/"
    },
    "id": "t15BIUZIlTvm",
    "outputId": "019b3134-7361-414d-bfe0-a8040b41a836"
   },
   "outputs": [
    {
     "name": "stderr",
     "output_type": "stream",
     "text": [
      "1686it [00:17, 95.48it/s] \n"
     ]
    }
   ],
   "source": [
    "with Pool(100) as p:\n",
    "    #r = list(tqdm.tqdm(p.imap(_foo, range(30)), total=30))\n",
    "    records = list(tqdm(p.imap(scrapey, all_urls)))"
   ]
  },
  {
   "cell_type": "code",
   "execution_count": 24,
   "metadata": {
    "colab": {
     "base_uri": "https://localhost:8080/"
    },
    "id": "HHW0UV77jnmY",
    "outputId": "0a67c326-c205-4312-aa91-eaab418ebabb"
   },
   "outputs": [
    {
     "name": "stdout",
     "output_type": "stream",
     "text": [
      "['Airlines body IATA suspends the grounded Jet Airways from clearing house membership~', 'IATA on Thursday suspended the grounded Jet Airways from the membership of its clearing house system ~', ['International airlines lobby IATA Thursday suspended the grounded Jet Airways from the membership of its clearing house system, a move that is likely to impact the refund process to passengers.~', 'The suspension of membership, which comes in the wake of the airline halting operations temporarily from last night, is with immediate effect, the International Air Transport Association (IATA) said that in a circular.~', '\"Consequently, claims by and against Jet Airways will not be processed by the clearing house with effect from and period 02 of the April 2019 clearing month,\" the association said, adding, however, those claims already submitted for clearance are excluded.\\xa0~']]\n"
     ]
    }
   ],
   "source": [
    "print(records[1685])"
   ]
  },
  {
   "cell_type": "code",
   "execution_count": 25,
   "metadata": {},
   "outputs": [],
   "source": [
    "data['content'] = records\n",
    "data.to_csv('f110_english_business_content.csv', encoding = 'utf-16')"
   ]
  },
  {
   "cell_type": "markdown",
   "metadata": {
    "id": "7JCDLRuMrJfP"
   },
   "source": [
    "# Putting Extracted Content into a file"
   ]
  },
  {
   "cell_type": "code",
   "execution_count": null,
   "metadata": {
    "colab": {
     "base_uri": "https://localhost:8080/"
    },
    "id": "9tYQAnVhv3GK",
    "outputId": "ffbd00f3-41cd-4f9c-b95a-34feadb7c999"
   },
   "outputs": [
    {
     "name": "stdout",
     "output_type": "stream",
     "text": [
      "Mounted at /content/drive\n"
     ]
    }
   ],
   "source": [
    "from google.colab import drive\n",
    "drive.mount('/content/drive')"
   ]
  },
  {
   "cell_type": "code",
   "execution_count": 26,
   "metadata": {
    "id": "aXSFuRXaXgnr"
   },
   "outputs": [
    {
     "data": {
      "text/html": [
       "<div>\n",
       "<style scoped>\n",
       "    .dataframe tbody tr th:only-of-type {\n",
       "        vertical-align: middle;\n",
       "    }\n",
       "\n",
       "    .dataframe tbody tr th {\n",
       "        vertical-align: top;\n",
       "    }\n",
       "\n",
       "    .dataframe thead th {\n",
       "        text-align: right;\n",
       "    }\n",
       "</style>\n",
       "<table border=\"1\" class=\"dataframe\">\n",
       "  <thead>\n",
       "    <tr style=\"text-align: right;\">\n",
       "      <th></th>\n",
       "      <th>Unnamed: 0</th>\n",
       "      <th>link</th>\n",
       "      <th>title</th>\n",
       "      <th>Year</th>\n",
       "      <th>Month</th>\n",
       "      <th>date</th>\n",
       "      <th>content</th>\n",
       "    </tr>\n",
       "  </thead>\n",
       "  <tbody>\n",
       "    <tr>\n",
       "      <th>0</th>\n",
       "      <td>0</td>\n",
       "      <td>https://english.jagran.com/business/bank-holid...</td>\n",
       "      <td>Bank Holidays May 2021: Govt and private banks...</td>\n",
       "      <td>2021</td>\n",
       "      <td>Apr</td>\n",
       "      <td>2021-Apr-27 04:57</td>\n",
       "      <td>['Bank Holidays May 2021: Govt and private ban...</td>\n",
       "    </tr>\n",
       "    <tr>\n",
       "      <th>1</th>\n",
       "      <td>1</td>\n",
       "      <td>https://english.jagran.com/business/jagdish-kh...</td>\n",
       "      <td>Jagdish Khattar, former Maruti Suzuki managing...</td>\n",
       "      <td>2021</td>\n",
       "      <td>Apr</td>\n",
       "      <td>2021-Apr-26 03:02</td>\n",
       "      <td>['Jagdish Khattar, former Maruti Suzuki managi...</td>\n",
       "    </tr>\n",
       "    <tr>\n",
       "      <th>2</th>\n",
       "      <td>2</td>\n",
       "      <td>https://english.jagran.com/business/amid-short...</td>\n",
       "      <td>Amid shortage of oxygen, Google CEO Sundar Pic...</td>\n",
       "      <td>2021</td>\n",
       "      <td>Apr</td>\n",
       "      <td>2021-Apr-26 11:30</td>\n",
       "      <td>['Amid shortage of oxygen, Google CEO Sundar P...</td>\n",
       "    </tr>\n",
       "    <tr>\n",
       "      <th>3</th>\n",
       "      <td>3</td>\n",
       "      <td>https://english.jagran.com/business/irdai-clar...</td>\n",
       "      <td>IRDAI clarifies on cashless claims in COVID-19...</td>\n",
       "      <td>2021</td>\n",
       "      <td>Apr</td>\n",
       "      <td>2021-Apr-22 11:14</td>\n",
       "      <td>['IRDAI clarifies on cashless claims in COVID-...</td>\n",
       "    </tr>\n",
       "    <tr>\n",
       "      <th>4</th>\n",
       "      <td>4</td>\n",
       "      <td>https://english.jagran.com/business/stock-mark...</td>\n",
       "      <td>Sensex drops by 1,300, Nifty slips to 14,200 a...</td>\n",
       "      <td>2021</td>\n",
       "      <td>Apr</td>\n",
       "      <td>2021-Apr-19 10:13</td>\n",
       "      <td>['Sensex drops by 1,300, Nifty slips to 14,200...</td>\n",
       "    </tr>\n",
       "  </tbody>\n",
       "</table>\n",
       "</div>"
      ],
      "text/plain": [
       "   Unnamed: 0                                               link  \\\n",
       "0           0  https://english.jagran.com/business/bank-holid...   \n",
       "1           1  https://english.jagran.com/business/jagdish-kh...   \n",
       "2           2  https://english.jagran.com/business/amid-short...   \n",
       "3           3  https://english.jagran.com/business/irdai-clar...   \n",
       "4           4  https://english.jagran.com/business/stock-mark...   \n",
       "\n",
       "                                               title  Year Month  \\\n",
       "0  Bank Holidays May 2021: Govt and private banks...  2021   Apr   \n",
       "1  Jagdish Khattar, former Maruti Suzuki managing...  2021   Apr   \n",
       "2  Amid shortage of oxygen, Google CEO Sundar Pic...  2021   Apr   \n",
       "3  IRDAI clarifies on cashless claims in COVID-19...  2021   Apr   \n",
       "4  Sensex drops by 1,300, Nifty slips to 14,200 a...  2021   Apr   \n",
       "\n",
       "                date                                            content  \n",
       "0  2021-Apr-27 04:57  ['Bank Holidays May 2021: Govt and private ban...  \n",
       "1  2021-Apr-26 03:02  ['Jagdish Khattar, former Maruti Suzuki managi...  \n",
       "2  2021-Apr-26 11:30  ['Amid shortage of oxygen, Google CEO Sundar P...  \n",
       "3  2021-Apr-22 11:14  ['IRDAI clarifies on cashless claims in COVID-...  \n",
       "4  2021-Apr-19 10:13  ['Sensex drops by 1,300, Nifty slips to 14,200...  "
      ]
     },
     "execution_count": 26,
     "metadata": {},
     "output_type": "execute_result"
    }
   ],
   "source": [
    "path = pd.read_csv('/home/test/Jagran-Josh/business/english/f110_english_business_content.csv', encoding = 'utf-16')\n",
    "path.head()"
   ]
  },
  {
   "cell_type": "markdown",
   "metadata": {
    "id": "0nCr9CSMby1Y"
   },
   "source": [
    "# Trail Run to write in a file"
   ]
  },
  {
   "cell_type": "code",
   "execution_count": null,
   "metadata": {},
   "outputs": [],
   "source": [
    "import re\n",
    "p_con = sample\n",
    "ddd = str(p_con)\n",
    "cont = ddd.replace(u'\\\\xa0', ' ')\n",
    "# cont=re.sub(\"['\\[\\]\\|\\/\\\"]\",\"\",cont)\n",
    "cont = re.sub(\"~[\\'\\\"]\",\"\\n\", cont)\n",
    "k = [i.strip().strip(',][\"\\'').strip() for i in cont.split('\\n')]\n",
    "k = [i.strip(',][\"\\'') for i in k]"
   ]
  },
  {
   "cell_type": "code",
   "execution_count": 6,
   "metadata": {},
   "outputs": [
    {
     "name": "stdout",
     "output_type": "stream",
     "text": [
      "['India registers over 1.26 lakh fresh COVID-19 infections, highest-ever single-day spike; active cases breach 9-lakh mark', 'India Coronavirus News  This is the highest single day spike India has ever recorded since the start of the coronavirus pandemic last year  India had reported over 1 15 lakh cases of coronavirus yesterday', 'New Delhi | Jagran News Desk: Showing continuous resurgence from the past few weeks, over 1.26 lakh COVID-19 cases were reported in India during the last 24 hours which took the total caseload in the country to near 1.30 crore. The death toll in the country also climbed up to nearly 1.67 lakh after 685 new fatalities were reported from the same span of time.', \"According to the Union Health Ministry's data on Thursday morning, India recorded 1,26,789 fresh COVID-19 infections taking the coronavirus caseload in the country to 1,29,28,574, while 685 deaths during the day took the death toll to 1,66,862. The number of people who have recuperated from the disease surged to 1,18,51,393, while the case fatality rate has further dropped to 1.29 per cent.\", 'This is the highest single-day spike India has ever recorded since the start of the coronavirus pandemic last year. This is also the third time when the country registered over 1 lakh cases in the last four days. India had reported over 1.15 lakh cases of coronavirus yesterday, while on Sunday, the country had reported over 1 lakh cases for the first time since the start of the pandemic last year.', \"Registering a steady increase for the 29th day in a row, the number of active cases too went upwards to breach the nine lakh mark again with the count going up to 9,10,319, which is 7.04 per cent of the total infections, while the country's recovery rate has further dropped to 91.67 per cent.\", 'The active COVID-19 caseload in the country was recorded at its lowest of 1,35,926 on February 12, comprising 1.25 per cent of the total infections.', 'The 685 new fatalities include 322 from Maharashtra, 62 from Punjab, 53 from Chhattisgarh, 40 from Uttar Pradesh, 35 from Karnataka, 22 from Gujarat, 20 from Delhi, 17 from Tamil Nadu, 16 from Kerala, 13 from Madhya Pradesh, 12 from Rajasthan and 11 each from Andhra Pradesh and Haryana.', 'Among the Indian states, Maharashtra continued to report a record number of daily cases. Maharashtra on Wednesday recorded the highest daily count of 59,907 coronavirus positive cases, taking the tally of infections to 31,73,261 while 322 fatalities pushed the toll to 56,652. Mumbai recorded 10,442 new cases and 24 deaths during the day, taking the overall caseload to 4,83,042 and the fatalities to 11,856.', 'Meanwhile, Delhi on Wednesday recorded 5,506 fresh COVID-19 cases, the sharpest daily spike this year, that pushed the infection tally to 6,90,568 while 20 more people succumbed to the disease, taking the death toll to 11,133. This is the second consecutive day when Delhi has seen a rise of over 5,000 cases. The city had reported 5,100 fresh cases on Tuesday.', '']\n"
     ]
    }
   ],
   "source": [
    "print(k)"
   ]
  },
  {
   "cell_type": "code",
   "execution_count": 7,
   "metadata": {},
   "outputs": [],
   "source": [
    "with open('finalpart_sample.text', mode = 'w') as f:\n",
    "    for text in k:\n",
    "        if(len(text) > 0):\n",
    "            f.write(text + '\\n')\n",
    "    "
   ]
  },
  {
   "cell_type": "code",
   "execution_count": 27,
   "metadata": {
    "colab": {
     "base_uri": "https://localhost:8080/"
    },
    "id": "x1Nal1FHO34x",
    "outputId": "9afac016-7ecd-489c-c2ba-342e92d30c36"
   },
   "outputs": [
    {
     "name": "stdout",
     "output_type": "stream",
     "text": [
      "1686\n"
     ]
    }
   ],
   "source": [
    "print(len(path['link']))"
   ]
  },
  {
   "cell_type": "markdown",
   "metadata": {},
   "source": [
    "# Content Scraping Main"
   ]
  },
  {
   "cell_type": "code",
   "execution_count": 28,
   "metadata": {
    "id": "XgXeiCh4NvpP"
   },
   "outputs": [],
   "source": [
    "bad_chars = [';', ':', '!', '?', '|', '/', '\"', '+', '<', '>', '.', \"*\"]"
   ]
  },
  {
   "cell_type": "code",
   "execution_count": 29,
   "metadata": {
    "colab": {
     "base_uri": "https://localhost:8080/"
    },
    "id": "jgpD4bhqwviZ",
    "outputId": "5e5205c0-9624-4435-ff9f-c874d7ebafdd"
   },
   "outputs": [
    {
     "name": "stderr",
     "output_type": "stream",
     "text": [
      "100%|██████████| 1686/1686 [00:00<00:00, 8896.11it/s]\n"
     ]
    }
   ],
   "source": [
    "import os\n",
    "import re\n",
    "out_dir = \"jagran_english_contents_business_final\"\n",
    "file_names = []\n",
    "for count in tqdm(range(0,len(path['link']))):\n",
    "    filename = ''.join(i for i in path['title'][count] if not i in bad_chars)\n",
    "    if not os.path.exists(out_dir):\n",
    "        os.makedirs(out_dir)\n",
    "    if not os.path.exists(os.path.join(out_dir, f\"{count}_{'_'.join(filename[:10].split())}.txt\")):\n",
    "        try:\n",
    "            temp_name = f\"{count}_{'_'.join(filename[:10].split())}.txt\"\n",
    "            file_names.append(temp_name)\n",
    "            ddd = str(path['content'][count])\n",
    "            cont = ddd.replace(u'\\\\xa0', ' ')\n",
    "            # cont=re.sub(\"['\\[\\]\\|\\/\\\"]\",\"\",cont)\n",
    "            cont = re.sub(\"~[\\'\\\"]\",\"\\n\", cont)\n",
    "            k = [i.strip().strip(',][\"\\'').strip() for i in cont.split('\\n')]\n",
    "            k = [i.strip(',][\"\\'') for i in k]\n",
    "            with open(os.path.join(out_dir, f\"{count}_{'_'.join(filename[:10].split())}.txt\"), mode=\"w\", encoding=\"utf-8\") as file_w:\n",
    "                \n",
    "                for text in k:\n",
    "                    file_w.write(text + '\\n')\n",
    "        except Exception as ex:\n",
    "            temp_name = f\"{count}_{'_'.join(filename[:10].split())}.txt\"\n",
    "            file_names.append(temp_name)\n",
    "            #data1.append(count)\n",
    "            print(ex)\n"
   ]
  },
  {
   "cell_type": "markdown",
   "metadata": {},
   "source": [
    "## Dropping the old content"
   ]
  },
  {
   "cell_type": "code",
   "execution_count": 30,
   "metadata": {
    "id": "BlLnkfs8mtCX"
   },
   "outputs": [],
   "source": [
    "path = path.drop(columns=['content'])"
   ]
  },
  {
   "cell_type": "code",
   "execution_count": 31,
   "metadata": {
    "colab": {
     "base_uri": "https://localhost:8080/",
     "height": 195
    },
    "id": "_ALbA07wS372",
    "outputId": "84992517-e767-40e2-f8bf-f85cc72c1a27"
   },
   "outputs": [
    {
     "data": {
      "text/html": [
       "<div>\n",
       "<style scoped>\n",
       "    .dataframe tbody tr th:only-of-type {\n",
       "        vertical-align: middle;\n",
       "    }\n",
       "\n",
       "    .dataframe tbody tr th {\n",
       "        vertical-align: top;\n",
       "    }\n",
       "\n",
       "    .dataframe thead th {\n",
       "        text-align: right;\n",
       "    }\n",
       "</style>\n",
       "<table border=\"1\" class=\"dataframe\">\n",
       "  <thead>\n",
       "    <tr style=\"text-align: right;\">\n",
       "      <th></th>\n",
       "      <th>Unnamed: 0</th>\n",
       "      <th>link</th>\n",
       "      <th>title</th>\n",
       "      <th>Year</th>\n",
       "      <th>Month</th>\n",
       "      <th>date</th>\n",
       "    </tr>\n",
       "  </thead>\n",
       "  <tbody>\n",
       "    <tr>\n",
       "      <th>0</th>\n",
       "      <td>0</td>\n",
       "      <td>https://english.jagran.com/business/bank-holid...</td>\n",
       "      <td>Bank Holidays May 2021: Govt and private banks...</td>\n",
       "      <td>2021</td>\n",
       "      <td>Apr</td>\n",
       "      <td>2021-Apr-27 04:57</td>\n",
       "    </tr>\n",
       "    <tr>\n",
       "      <th>1</th>\n",
       "      <td>1</td>\n",
       "      <td>https://english.jagran.com/business/jagdish-kh...</td>\n",
       "      <td>Jagdish Khattar, former Maruti Suzuki managing...</td>\n",
       "      <td>2021</td>\n",
       "      <td>Apr</td>\n",
       "      <td>2021-Apr-26 03:02</td>\n",
       "    </tr>\n",
       "    <tr>\n",
       "      <th>2</th>\n",
       "      <td>2</td>\n",
       "      <td>https://english.jagran.com/business/amid-short...</td>\n",
       "      <td>Amid shortage of oxygen, Google CEO Sundar Pic...</td>\n",
       "      <td>2021</td>\n",
       "      <td>Apr</td>\n",
       "      <td>2021-Apr-26 11:30</td>\n",
       "    </tr>\n",
       "    <tr>\n",
       "      <th>3</th>\n",
       "      <td>3</td>\n",
       "      <td>https://english.jagran.com/business/irdai-clar...</td>\n",
       "      <td>IRDAI clarifies on cashless claims in COVID-19...</td>\n",
       "      <td>2021</td>\n",
       "      <td>Apr</td>\n",
       "      <td>2021-Apr-22 11:14</td>\n",
       "    </tr>\n",
       "    <tr>\n",
       "      <th>4</th>\n",
       "      <td>4</td>\n",
       "      <td>https://english.jagran.com/business/stock-mark...</td>\n",
       "      <td>Sensex drops by 1,300, Nifty slips to 14,200 a...</td>\n",
       "      <td>2021</td>\n",
       "      <td>Apr</td>\n",
       "      <td>2021-Apr-19 10:13</td>\n",
       "    </tr>\n",
       "  </tbody>\n",
       "</table>\n",
       "</div>"
      ],
      "text/plain": [
       "   Unnamed: 0                                               link  \\\n",
       "0           0  https://english.jagran.com/business/bank-holid...   \n",
       "1           1  https://english.jagran.com/business/jagdish-kh...   \n",
       "2           2  https://english.jagran.com/business/amid-short...   \n",
       "3           3  https://english.jagran.com/business/irdai-clar...   \n",
       "4           4  https://english.jagran.com/business/stock-mark...   \n",
       "\n",
       "                                               title  Year Month  \\\n",
       "0  Bank Holidays May 2021: Govt and private banks...  2021   Apr   \n",
       "1  Jagdish Khattar, former Maruti Suzuki managing...  2021   Apr   \n",
       "2  Amid shortage of oxygen, Google CEO Sundar Pic...  2021   Apr   \n",
       "3  IRDAI clarifies on cashless claims in COVID-19...  2021   Apr   \n",
       "4  Sensex drops by 1,300, Nifty slips to 14,200 a...  2021   Apr   \n",
       "\n",
       "                date  \n",
       "0  2021-Apr-27 04:57  \n",
       "1  2021-Apr-26 03:02  \n",
       "2  2021-Apr-26 11:30  \n",
       "3  2021-Apr-22 11:14  \n",
       "4  2021-Apr-19 10:13  "
      ]
     },
     "execution_count": 31,
     "metadata": {},
     "output_type": "execute_result"
    }
   ],
   "source": [
    "path.head()"
   ]
  },
  {
   "cell_type": "markdown",
   "metadata": {},
   "source": [
    "## Appending the text file into the content"
   ]
  },
  {
   "cell_type": "code",
   "execution_count": 32,
   "metadata": {
    "id": "u2t_zYVIcyiv"
   },
   "outputs": [],
   "source": [
    "path['content'] = file_names\n",
    "\n",
    "path.to_csv('f110_english_business_content_final.csv', mode='a', encoding = 'utf-16', index = False)"
   ]
  },
  {
   "cell_type": "code",
   "execution_count": 33,
   "metadata": {
    "colab": {
     "base_uri": "https://localhost:8080/",
     "height": 296
    },
    "id": "yu0U98dvgbXl",
    "outputId": "d1860f9a-a60e-4581-c65d-430bea950725"
   },
   "outputs": [
    {
     "data": {
      "text/html": [
       "<div>\n",
       "<style scoped>\n",
       "    .dataframe tbody tr th:only-of-type {\n",
       "        vertical-align: middle;\n",
       "    }\n",
       "\n",
       "    .dataframe tbody tr th {\n",
       "        vertical-align: top;\n",
       "    }\n",
       "\n",
       "    .dataframe thead th {\n",
       "        text-align: right;\n",
       "    }\n",
       "</style>\n",
       "<table border=\"1\" class=\"dataframe\">\n",
       "  <thead>\n",
       "    <tr style=\"text-align: right;\">\n",
       "      <th></th>\n",
       "      <th>Unnamed: 0</th>\n",
       "      <th>link</th>\n",
       "      <th>title</th>\n",
       "      <th>Year</th>\n",
       "      <th>Month</th>\n",
       "      <th>date</th>\n",
       "      <th>content</th>\n",
       "    </tr>\n",
       "  </thead>\n",
       "  <tbody>\n",
       "    <tr>\n",
       "      <th>0</th>\n",
       "      <td>0</td>\n",
       "      <td>https://english.jagran.com/business/bank-holid...</td>\n",
       "      <td>Bank Holidays May 2021: Govt and private banks...</td>\n",
       "      <td>2021</td>\n",
       "      <td>Apr</td>\n",
       "      <td>2021-Apr-27 04:57</td>\n",
       "      <td>0_Bank_Holid.txt</td>\n",
       "    </tr>\n",
       "    <tr>\n",
       "      <th>1</th>\n",
       "      <td>1</td>\n",
       "      <td>https://english.jagran.com/business/jagdish-kh...</td>\n",
       "      <td>Jagdish Khattar, former Maruti Suzuki managing...</td>\n",
       "      <td>2021</td>\n",
       "      <td>Apr</td>\n",
       "      <td>2021-Apr-26 03:02</td>\n",
       "      <td>1_Jagdish_Kh.txt</td>\n",
       "    </tr>\n",
       "    <tr>\n",
       "      <th>2</th>\n",
       "      <td>2</td>\n",
       "      <td>https://english.jagran.com/business/amid-short...</td>\n",
       "      <td>Amid shortage of oxygen, Google CEO Sundar Pic...</td>\n",
       "      <td>2021</td>\n",
       "      <td>Apr</td>\n",
       "      <td>2021-Apr-26 11:30</td>\n",
       "      <td>2_Amid_short.txt</td>\n",
       "    </tr>\n",
       "    <tr>\n",
       "      <th>3</th>\n",
       "      <td>3</td>\n",
       "      <td>https://english.jagran.com/business/irdai-clar...</td>\n",
       "      <td>IRDAI clarifies on cashless claims in COVID-19...</td>\n",
       "      <td>2021</td>\n",
       "      <td>Apr</td>\n",
       "      <td>2021-Apr-22 11:14</td>\n",
       "      <td>3_IRDAI_clar.txt</td>\n",
       "    </tr>\n",
       "    <tr>\n",
       "      <th>4</th>\n",
       "      <td>4</td>\n",
       "      <td>https://english.jagran.com/business/stock-mark...</td>\n",
       "      <td>Sensex drops by 1,300, Nifty slips to 14,200 a...</td>\n",
       "      <td>2021</td>\n",
       "      <td>Apr</td>\n",
       "      <td>2021-Apr-19 10:13</td>\n",
       "      <td>4_Sensex_dro.txt</td>\n",
       "    </tr>\n",
       "  </tbody>\n",
       "</table>\n",
       "</div>"
      ],
      "text/plain": [
       "   Unnamed: 0                                               link  \\\n",
       "0           0  https://english.jagran.com/business/bank-holid...   \n",
       "1           1  https://english.jagran.com/business/jagdish-kh...   \n",
       "2           2  https://english.jagran.com/business/amid-short...   \n",
       "3           3  https://english.jagran.com/business/irdai-clar...   \n",
       "4           4  https://english.jagran.com/business/stock-mark...   \n",
       "\n",
       "                                               title  Year Month  \\\n",
       "0  Bank Holidays May 2021: Govt and private banks...  2021   Apr   \n",
       "1  Jagdish Khattar, former Maruti Suzuki managing...  2021   Apr   \n",
       "2  Amid shortage of oxygen, Google CEO Sundar Pic...  2021   Apr   \n",
       "3  IRDAI clarifies on cashless claims in COVID-19...  2021   Apr   \n",
       "4  Sensex drops by 1,300, Nifty slips to 14,200 a...  2021   Apr   \n",
       "\n",
       "                date           content  \n",
       "0  2021-Apr-27 04:57  0_Bank_Holid.txt  \n",
       "1  2021-Apr-26 03:02  1_Jagdish_Kh.txt  \n",
       "2  2021-Apr-26 11:30  2_Amid_short.txt  \n",
       "3  2021-Apr-22 11:14  3_IRDAI_clar.txt  \n",
       "4  2021-Apr-19 10:13  4_Sensex_dro.txt  "
      ]
     },
     "execution_count": 33,
     "metadata": {},
     "output_type": "execute_result"
    }
   ],
   "source": [
    "path.head()"
   ]
  },
  {
   "cell_type": "code",
   "execution_count": 31,
   "metadata": {},
   "outputs": [
    {
     "name": "stderr",
     "output_type": "stream",
     "text": [
      "[nltk_data] Downloading package punkt to /home/test/nltk_data...\n",
      "[nltk_data]   Unzipping tokenizers/punkt.zip.\n"
     ]
    },
    {
     "data": {
      "text/plain": [
       "True"
      ]
     },
     "execution_count": 31,
     "metadata": {},
     "output_type": "execute_result"
    }
   ],
   "source": [
    "import nltk\n",
    "nltk.download('punkt')\n"
   ]
  },
  {
   "cell_type": "code",
   "execution_count": 1,
   "metadata": {},
   "outputs": [],
   "source": [
    "from retry import retry"
   ]
  },
  {
   "cell_type": "code",
   "execution_count": 33,
   "metadata": {},
   "outputs": [
    {
     "name": "stdout",
     "output_type": "stream",
     "text": [
      "Collecting retry\n",
      "  Downloading retry-0.9.2-py2.py3-none-any.whl (8.0 kB)\n",
      "Requirement already satisfied: decorator>=3.4.2 in /home/test/anaconda3/lib/python3.8/site-packages (from retry) (4.4.2)\n",
      "Requirement already satisfied: py<2.0.0,>=1.4.26 in /home/test/anaconda3/lib/python3.8/site-packages (from retry) (1.9.0)\n",
      "Installing collected packages: retry\n",
      "Successfully installed retry-0.9.2\n",
      "Note: you may need to restart the kernel to use updated packages.\n"
     ]
    }
   ],
   "source": [
    "pip install retry\n"
   ]
  },
  {
   "cell_type": "code",
   "execution_count": null,
   "metadata": {},
   "outputs": [],
   "source": []
  }
 ],
 "metadata": {
  "colab": {
   "collapsed_sections": [
    "zSkMhMoGYybZ",
    "sRnxe5zKZGgm",
    "xvJUmGeJZRCw",
    "NBy1dF80ax6x"
   ],
   "name": "jagran_eng_full_scrape.ipynb",
   "provenance": []
  },
  "kernelspec": {
   "display_name": "Python 3",
   "language": "python",
   "name": "python3"
  },
  "language_info": {
   "codemirror_mode": {
    "name": "ipython",
    "version": 3
   },
   "file_extension": ".py",
   "mimetype": "text/x-python",
   "name": "python",
   "nbconvert_exporter": "python",
   "pygments_lexer": "ipython3",
   "version": "3.8.5"
  }
 },
 "nbformat": 4,
 "nbformat_minor": 1
}
