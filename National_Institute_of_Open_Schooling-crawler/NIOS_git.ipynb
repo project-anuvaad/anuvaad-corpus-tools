{
 "cells": [
  {
   "cell_type": "markdown",
   "metadata": {},
   "source": [
    "## importing libraries"
   ]
  },
  {
   "cell_type": "code",
   "execution_count": 11,
   "metadata": {},
   "outputs": [],
   "source": [
    "import os\n",
    "import re\n",
    "import wget\n",
    "import rarfile\n",
    "import requests\n",
    "import pandas as pd\n",
    "import urllib.request\n",
    "from tqdm import tqdm\n",
    "from bs4 import BeautifulSoup"
   ]
  },
  {
   "cell_type": "code",
   "execution_count": 127,
   "metadata": {},
   "outputs": [],
   "source": [
    "s_url = 'https://nios.ac.in/'"
   ]
  },
  {
   "cell_type": "code",
   "execution_count": null,
   "metadata": {},
   "outputs": [],
   "source": [
    "URL = 'https://nios.ac.in/online-course-material/sr-secondary-courses/bengali_medium_srsecondary.aspx'\n",
    "response = requests.get(URL) #headers={'Content-Type': 'application/json; charset=utf-8'})\n",
    "\n",
    "soup = BeautifulSoup(response.text,'html.parser')\n",
    "segment = soup.find('div', class_ = 'mainContent')#class_ = 'maincontent')\n",
    "anc = segment.find_all('p')\n",
    "anc"
   ]
  },
  {
   "cell_type": "code",
   "execution_count": 128,
   "metadata": {},
   "outputs": [],
   "source": [
    "all_links = []\n",
    "\n",
    "anc = segment.find_all('a', href = True)\n",
    "for i in anc:\n",
    "    s = s_url + i['href']\n",
    "    all_links.append(s)"
   ]
  },
  {
   "cell_type": "code",
   "execution_count": 129,
   "metadata": {},
   "outputs": [
    {
     "data": {
      "text/plain": [
       "['https://nios.ac.in//',\n",
       " 'https://nios.ac.in//online-course-material.aspx',\n",
       " 'https://nios.ac.in//online-course-material/sr-secondary-courses.aspx',\n",
       " 'https://nios.ac.in/?format=print',\n",
       " 'https://nios.ac.in/?format=largeprint',\n",
       " 'https://nios.ac.in//media/documents/sr_secondary_course_regional_medium/Bengali_medium_srsecondary/CRC_GEOGRAPHY_bengali.rar',\n",
       " 'https://nios.ac.in//media/documents/sr_secondary_course_regional_medium/Bengali_medium_srsecondary/CRC_BIOLOGY_bengali.rar',\n",
       " 'https://nios.ac.in//media/documents/sr_secondary_course_regional_medium/Bengali_medium_srsecondary/CRC_CHEMISTRY_bengali.rar',\n",
       " 'https://nios.ac.in//media/documents/sr_secondary_course_regional_medium/Bengali_medium_srsecondary/CRC_HISTORY_bengali.rar',\n",
       " 'https://nios.ac.in//media/documents/sr_secondary_course_regional_medium/Bengali_medium_srsecondary/CRC_MATHEMATICS_bengali.rar',\n",
       " 'https://nios.ac.in//media/documents/sr_secondary_course_regional_medium/Bengali_medium_srsecondary/CRC_PHYSICS_bengali.rar',\n",
       " 'https://nios.ac.in//media/documents/sr_secondary_course_regional_medium/Bengali_medium_srsecondary/CRC_POL_SCIENCE_bengali.rar',\n",
       " 'https://nios.ac.in//media/documents/sr_secondary_course_regional_medium/Bengali_medium_srsecondary/CRC_SOCIOLOGY_bengali.rar']"
      ]
     },
     "execution_count": 129,
     "metadata": {},
     "output_type": "execute_result"
    }
   ],
   "source": [
    "all_links"
   ]
  },
  {
   "cell_type": "markdown",
   "metadata": {},
   "source": [
    "## to get pdf as well as rar file links"
   ]
  },
  {
   "cell_type": "code",
   "execution_count": 130,
   "metadata": {},
   "outputs": [],
   "source": [
    "pdf_link = []\n",
    "rar_link = []\n",
    "for link_set in all_links:\n",
    "    spl = re.search('.pdf',link_set)\n",
    "    rar = re.search('.rar',link_set )\n",
    "    if spl:\n",
    "        pdf_link.append(link_set)\n",
    "    elif rar:\n",
    "        rar_link.append(link_set)\n",
    "    else:\n",
    "        continue\n",
    "    "
   ]
  },
  {
   "cell_type": "code",
   "execution_count": 1,
   "metadata": {},
   "outputs": [],
   "source": [
    "# rar_link"
   ]
  },
  {
   "cell_type": "code",
   "execution_count": 2,
   "metadata": {},
   "outputs": [],
   "source": [
    "# pdf_link"
   ]
  },
  {
   "cell_type": "markdown",
   "metadata": {},
   "source": [
    "## both language to have array"
   ]
  },
  {
   "cell_type": "code",
   "execution_count": 166,
   "metadata": {},
   "outputs": [],
   "source": [
    "e_list = []\n",
    "h_list = []\n",
    "for lis in pdf_link:\n",
    "    x = re.findall(r\"(?=.*Hindi)|(?=.*hindi)|(?=.*_H_)|(?=.*H.pdf)(?=.*pdf)\", lis)\n",
    "    y =  re.findall(r\"(?=.*English)|(?=.*english)|(?=.*eng)(?=.*pdf)\", lis)\n",
    "    if (x):\n",
    "        h_list.append(lis)\n",
    "    else:\n",
    "        e_list.append(lis)\n",
    "    #|(?=.*hind)"
   ]
  },
  {
   "cell_type": "markdown",
   "metadata": {},
   "source": [
    "## create dataframe"
   ]
  },
  {
   "cell_type": "code",
   "execution_count": 28,
   "metadata": {},
   "outputs": [],
   "source": [
    "df = pd.DataFrame(e_list, columns = ['en_link'])\n",
    "sd = pd.DataFrame(h_list, columns = ['hi_link'])"
   ]
  },
  {
   "cell_type": "code",
   "execution_count": 29,
   "metadata": {},
   "outputs": [],
   "source": [
    "df.to_csv('e_links_diploma_srsc')\n",
    "sd.to_csv('h_links_diploma_srsc')"
   ]
  },
  {
   "cell_type": "code",
   "execution_count": 33,
   "metadata": {},
   "outputs": [],
   "source": [
    "e = pd.read_csv('e_links_diploma_srsc')\n",
    "h = pd.read_csv('h_links_diploma_srsc')"
   ]
  },
  {
   "cell_type": "markdown",
   "metadata": {},
   "source": [
    "## download pdf links"
   ]
  },
  {
   "cell_type": "code",
   "execution_count": 150,
   "metadata": {},
   "outputs": [],
   "source": [
    "path = '/sc/mr_med/'\n",
    "\n",
    "def download_file(download_url):\n",
    "    try:\n",
    "        response = urllib.request.urlopen(download_url)\n",
    "        filename = download_url.split('/')[-1:]\n",
    "        d1 = '_'.join(filename)\n",
    "        file = open(os.path.join(path,d1), 'wb')\n",
    "        file.write(response.read())\n",
    "        file.close()\n",
    "    except Exception as e:\n",
    "        print('missing')"
   ]
  },
  {
   "cell_type": "code",
   "execution_count": 109,
   "metadata": {},
   "outputs": [
    {
     "name": "stderr",
     "output_type": "stream",
     "text": [
      "100%|██████████| 68/68 [00:58<00:00,  1.17it/s]\n"
     ]
    }
   ],
   "source": [
    "## english links \n",
    "for i in tqdm(range(0, len(e['en_link']))):\n",
    "    pdf_path = e['en_link'][i]\n",
    "    \n",
    "#     pdf_name = local_filename\n",
    "    download_file(pdf_path)"
   ]
  },
  {
   "cell_type": "code",
   "execution_count": 4,
   "metadata": {},
   "outputs": [],
   "source": [
    "## hindi links\n",
    "for i in tqdm(range(0, len(h['hi_link']))):\n",
    "    pdf_path = h['hi_link'][i]\n",
    "    \n",
    "    download_file(pdf_path)"
   ]
  },
  {
   "cell_type": "markdown",
   "metadata": {},
   "source": [
    "## download .rar file "
   ]
  },
  {
   "cell_type": "code",
   "execution_count": 132,
   "metadata": {},
   "outputs": [
    {
     "name": "stderr",
     "output_type": "stream",
     "text": [
      "100%|██████████| 8/8 [26:44<00:00, 200.53s/it]\n"
     ]
    }
   ],
   "source": [
    "for i in tqdm(range(0,len(rar_link))):\n",
    "    try:\n",
    "        url = rar_link[i]\n",
    "        d1 = url.split(\"/\")[-2:]\n",
    "        filename = '_'.join(d1) \n",
    "        path = 'srsc/bn_med/'\n",
    "#         if not os.path.exists(path):\n",
    "#             os.makedirs(path)\n",
    "#             if not os.path.exists(os.path.join(path, filename)):\n",
    "        desti = os.path.join(path,filename)\n",
    "        wget.download(url, desti)\n",
    "#         print(filename)\n",
    "    except Exception as e:\n",
    "        print('missing', url)"
   ]
  }
 ],
 "metadata": {
  "kernelspec": {
   "display_name": "Python 3",
   "language": "python",
   "name": "python3"
  },
  "language_info": {
   "codemirror_mode": {
    "name": "ipython",
    "version": 3
   },
   "file_extension": ".py",
   "mimetype": "text/x-python",
   "name": "python",
   "nbconvert_exporter": "python",
   "pygments_lexer": "ipython3",
   "version": "3.8.5"
  }
 },
 "nbformat": 4,
 "nbformat_minor": 4
}
